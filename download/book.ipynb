{
 "cells": [
  {
   "cell_type": "code",
   "execution_count": 1,
   "metadata": {},
   "outputs": [],
   "source": [
    "import requests\n",
    "from bs4 import BeautifulSoup\n",
    "import time"
   ]
  },
  {
   "cell_type": "code",
   "execution_count": 2,
   "metadata": {},
   "outputs": [],
   "source": [
    "def download(url):\n",
    "    r = requests.get(url)\n",
    "    html = r.text\n",
    "    soup = BeautifulSoup(html, 'html.parser')\n",
    "    title = soup.title.text\n",
    "    text = str()\n",
    "    for p in soup.find_all('p'):\n",
    "        text = text + p.text + '\\n'\n",
    "    print(text)\n",
    "    f = open(title + '.txt', \"a\")\n",
    "    f.write(text)\n",
    "    f.close()\n",
    "    return title"
   ]
  },
  {
   "cell_type": "code",
   "execution_count": 3,
   "metadata": {},
   "outputs": [
    {
     "name": "stdout",
     "output_type": "stream",
     "text": [
      "['http:', '', 'big5.quanben.io', 'n', 'shenjitiancai', 'list.html']\n"
     ]
    }
   ],
   "source": [
    "url = 'http://big5.quanben.io/n/shenjitiancai/list.html'\n",
    "url_list = url.split('/')\n",
    "print(url_list)"
   ]
  },
  {
   "cell_type": "code",
   "execution_count": null,
   "metadata": {},
   "outputs": [],
   "source": [
    "i = 4\n",
    "while i < 1000:\n",
    "    url = str()\n",
    "    for j in url_list[:-1]:\n",
    "        url = url + j + '/'\n",
    "    url += str(i) + '.html'\n",
    "    print(url)\n",
    "    title = download(url)\n",
    "    if title == '未授权':\n",
    "        pass\n",
    "    else:\n",
    "        i += 1\n",
    "    time.sleep(60)"
   ]
  }
 ],
 "metadata": {
  "kernelspec": {
   "display_name": "Python 3",
   "language": "python",
   "name": "python3"
  },
  "language_info": {
   "codemirror_mode": {
    "name": "ipython",
    "version": 3
   },
   "file_extension": ".py",
   "mimetype": "text/x-python",
   "name": "python",
   "nbconvert_exporter": "python",
   "pygments_lexer": "ipython3",
   "version": "3.7.4"
  }
 },
 "nbformat": 4,
 "nbformat_minor": 2
}
