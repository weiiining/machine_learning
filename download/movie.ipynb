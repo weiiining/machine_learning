{
 "cells": [
  {
   "cell_type": "code",
   "execution_count": 1,
   "metadata": {},
   "outputs": [],
   "source": [
    "import urllib.request\n",
    "import os\n",
    "import ffmpeg"
   ]
  },
  {
   "cell_type": "code",
   "execution_count": 2,
   "metadata": {},
   "outputs": [],
   "source": [
    "def get_title(url):\n",
    "    title = url.split('/')[-4]\n",
    "    return title"
   ]
  },
  {
   "cell_type": "code",
   "execution_count": 3,
   "metadata": {},
   "outputs": [],
   "source": [
    "def stream(url, title):\n",
    "    try:\n",
    "        os.mkdir(title)\n",
    "    except:\n",
    "        print('file exist.')\n",
    "    finally:\n",
    "        download(url, title, 3)\n",
    "        download(url, title, 4)\n",
    "        merge(title)"
   ]
  },
  {
   "cell_type": "code",
   "execution_count": 4,
   "metadata": {},
   "outputs": [],
   "source": [
    "def get_progress(title):\n",
    "    path = title + '/'\n",
    "    listdir = os.listdir(path)\n",
    "    ts_list = [0]\n",
    "    for file in listdir:\n",
    "        if '.ts' in file:\n",
    "            ts_list.append(int(file[:-3]))\n",
    "    ts_max = max(ts_list)\n",
    "    return ts_max"
   ]
  },
  {
   "cell_type": "code",
   "execution_count": 5,
   "metadata": {},
   "outputs": [],
   "source": [
    "def download(url, title, i):\n",
    "    print('downloading %s' % title)\n",
    "    url_cut = url.index('.ts')\n",
    "    url_head = url[:url_cut - i]\n",
    "    url_tail = url[url_cut:]\n",
    "    progress = get_progress(title)\n",
    "    error_count = 0\n",
    "    for i in range(progress, 10):\n",
    "        if error_count >= 10:\n",
    "            print('%s download complete.' % title)\n",
    "            break\n",
    "        j = str(i)\n",
    "        segment = j\n",
    "        while len(segment) < 3:\n",
    "            segment = '0' + segment\n",
    "        url_segment = url_head + segment + url_tail\n",
    "        path = title + '/' + j + '.ts'\n",
    "        try:\n",
    "            print(url_segment)\n",
    "            print(urllib.request.urlretrieve(url_segment, path))            \n",
    "        except:\n",
    "            error_count += 1\n",
    "            print(False, error_count)"
   ]
  },
  {
   "cell_type": "code",
   "execution_count": 6,
   "metadata": {},
   "outputs": [],
   "source": [
    "def merge(title):\n",
    "    path = title + '/'\n",
    "    listdir = os.listdir(path)\n",
    "    ts_list = list()\n",
    "    for file in listdir:\n",
    "        if '.ts' in file:\n",
    "            ts_list.append(int(file[:-3]))\n",
    "    ts_list.sort()\n",
    "    txt_path = path + title + '.txt'\n",
    "    with open(txt_path, 'w') as txt:\n",
    "        for ts in ts_list:\n",
    "            txt.write('file %s.ts\\n' % ts)\n",
    "    cmd = 'ffmpeg -f concat -i %s -c copy -bsf:a aac_adtstoasc %s.mp4' % (txt_path, title)\n",
    "    os.system(cmd)\n",
    "    print('%s merge complete.' % title)"
   ]
  },
  {
   "cell_type": "code",
   "execution_count": 7,
   "metadata": {},
   "outputs": [
    {
     "name": "stdout",
     "output_type": "stream",
     "text": [
      "http://hong.tianzhen-zuida.com/20200116/18644_c3694188/1000k/hls/3dd917900fc000063.ts downloading 18644_c3694188\n",
      "downloading 18644_c3694188\n",
      "http://hong.tianzhen-zuida.com/20200116/18644_c3694188/1000k/hls/3dd917900fc000000.ts downloading 18644_c3694188\n",
      "False 1\n",
      "http://hong.tianzhen-zuida.com/20200116/18644_c3694188/1000k/hls/3dd917900fc000001.ts downloading 18644_c3694188\n",
      "False 2\n",
      "http://hong.tianzhen-zuida.com/20200116/18644_c3694188/1000k/hls/3dd917900fc000002.ts downloading 18644_c3694188\n",
      "False 3\n",
      "http://hong.tianzhen-zuida.com/20200116/18644_c3694188/1000k/hls/3dd917900fc000003.ts downloading 18644_c3694188\n",
      "False 4\n",
      "http://hong.tianzhen-zuida.com/20200116/18644_c3694188/1000k/hls/3dd917900fc000004.ts downloading 18644_c3694188\n",
      "False 5\n",
      "http://hong.tianzhen-zuida.com/20200116/18644_c3694188/1000k/hls/3dd917900fc000005.ts downloading 18644_c3694188\n",
      "False 6\n",
      "http://hong.tianzhen-zuida.com/20200116/18644_c3694188/1000k/hls/3dd917900fc000006.ts downloading 18644_c3694188\n",
      "False 7\n",
      "http://hong.tianzhen-zuida.com/20200116/18644_c3694188/1000k/hls/3dd917900fc000007.ts downloading 18644_c3694188\n",
      "False 8\n",
      "http://hong.tianzhen-zuida.com/20200116/18644_c3694188/1000k/hls/3dd917900fc000008.ts downloading 18644_c3694188\n",
      "False 9\n",
      "http://hong.tianzhen-zuida.com/20200116/18644_c3694188/1000k/hls/3dd917900fc000009.ts downloading 18644_c3694188\n",
      "False 10\n",
      "downloading 18644_c3694188\n",
      "http://hong.tianzhen-zuida.com/20200116/18644_c3694188/1000k/hls/3dd917900fc00000.ts downloading 18644_c3694188\n",
      "False 1\n",
      "http://hong.tianzhen-zuida.com/20200116/18644_c3694188/1000k/hls/3dd917900fc00001.ts downloading 18644_c3694188\n",
      "False 2\n",
      "http://hong.tianzhen-zuida.com/20200116/18644_c3694188/1000k/hls/3dd917900fc00002.ts downloading 18644_c3694188\n",
      "False 3\n",
      "http://hong.tianzhen-zuida.com/20200116/18644_c3694188/1000k/hls/3dd917900fc00003.ts downloading 18644_c3694188\n",
      "False 4\n",
      "http://hong.tianzhen-zuida.com/20200116/18644_c3694188/1000k/hls/3dd917900fc00004.ts downloading 18644_c3694188\n",
      "False 5\n",
      "http://hong.tianzhen-zuida.com/20200116/18644_c3694188/1000k/hls/3dd917900fc00005.ts downloading 18644_c3694188\n",
      "False 6\n",
      "http://hong.tianzhen-zuida.com/20200116/18644_c3694188/1000k/hls/3dd917900fc00006.ts downloading 18644_c3694188\n",
      "False 7\n",
      "http://hong.tianzhen-zuida.com/20200116/18644_c3694188/1000k/hls/3dd917900fc00007.ts downloading 18644_c3694188\n",
      "False 8\n",
      "http://hong.tianzhen-zuida.com/20200116/18644_c3694188/1000k/hls/3dd917900fc00008.ts downloading 18644_c3694188\n",
      "False 9\n",
      "http://hong.tianzhen-zuida.com/20200116/18644_c3694188/1000k/hls/3dd917900fc00009.ts downloading 18644_c3694188\n",
      "False 10\n",
      "18644_c3694188 merge complete.\n"
     ]
    }
   ],
   "source": [
    "url = input()\n",
    "title = get_title(url)\n",
    "stream(url, title)"
   ]
  },
  {
   "cell_type": "code",
   "execution_count": null,
   "metadata": {},
   "outputs": [],
   "source": []
  }
 ],
 "metadata": {
  "kernelspec": {
   "display_name": "Python 3",
   "language": "python",
   "name": "python3"
  },
  "language_info": {
   "codemirror_mode": {
    "name": "ipython",
    "version": 3
   },
   "file_extension": ".py",
   "mimetype": "text/x-python",
   "name": "python",
   "nbconvert_exporter": "python",
   "pygments_lexer": "ipython3",
   "version": "3.7.4"
  }
 },
 "nbformat": 4,
 "nbformat_minor": 2
}
