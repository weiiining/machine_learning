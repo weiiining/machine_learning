{
 "cells": [
  {
   "cell_type": "code",
   "execution_count": 3,
   "metadata": {},
   "outputs": [
    {
     "name": "stdout",
     "output_type": "stream",
     "text": [
      "['a', 'b', 'c', 'd', 'e', 'f', 'g', 'h', 'i', 'j', 'k', 'l', 'm', 'n', 'o', 'p', 'q', 'r', 's', 't', 'u', 'v', 'w', 'x', 'y', 'z']\n"
     ]
    }
   ],
   "source": [
    "x='a b c d e f g h i j k l m n o p q r s t u v w x y z'\n",
    "x_list=x.split()\n",
    "print(x_list)"
   ]
  },
  {
   "cell_type": "code",
   "execution_count": 9,
   "metadata": {},
   "outputs": [
    {
     "name": "stdout",
     "output_type": "stream",
     "text": [
      "5\n"
     ]
    }
   ],
   "source": [
    "import random\n",
    "def generate_key():\n",
    "    key = random.randint(0,25)\n",
    "    return key\n",
    "print(generate_key())"
   ]
  },
  {
   "cell_type": "code",
   "execution_count": 20,
   "metadata": {},
   "outputs": [],
   "source": [
    "def decrypt(ciphertext,key):\n",
    "    plaintext=str()\n",
    "    for i in ciphertext:\n",
    "        x_index=x_list.index(i)\n",
    "        plaintext+= x_list[(x_index-key)%26]\n",
    "    return plaintext"
   ]
  },
  {
   "cell_type": "code",
   "execution_count": 25,
   "metadata": {},
   "outputs": [
    {
     "name": "stdout",
     "output_type": "stream",
     "text": [
      "abc\n",
      "6\n",
      "uvw\n"
     ]
    }
   ],
   "source": [
    "ciphertext=input().lower()\n",
    "key=generate_key()\n",
    "plaintext=decrypt(ciphertext,key)\n",
    "print(key)\n",
    "print(plaintext)"
   ]
  },
  {
   "cell_type": "code",
   "execution_count": 26,
   "metadata": {},
   "outputs": [
    {
     "name": "stdout",
     "output_type": "stream",
     "text": [
      "elthly\n",
      "elthly\n",
      "dksgkx\n",
      "cjrfjw\n",
      "biqeiv\n",
      "ahpdhu\n",
      "zgocgt\n",
      "yfnbfs\n",
      "xemaer\n",
      "wdlzdq\n",
      "vckycp\n",
      "ubjxbo\n",
      "taiwan\n",
      "szhvzm\n",
      "ryguyl\n",
      "qxftxk\n",
      "pweswj\n",
      "ovdrvi\n",
      "nucquh\n",
      "mtbptg\n",
      "lsaosf\n",
      "krznre\n",
      "jqymqd\n",
      "ipxlpc\n",
      "howkob\n",
      "gnvjna\n"
     ]
    }
   ],
   "source": [
    "ciphertext=input().lower()\n",
    "for i in range(25):\n",
    "    key=i\n",
    "    print(decrypt(ciphertext,key))\n",
    "    i+=1\n",
    "    "
   ]
  },
  {
   "cell_type": "code",
   "execution_count": 27,
   "metadata": {},
   "outputs": [
    {
     "name": "stdout",
     "output_type": "stream",
     "text": [
      "fojxed\n",
      "fojxed\n",
      "eniwdc\n",
      "dmhvcb\n",
      "clguba\n",
      "bkftaz\n",
      "ajeszy\n",
      "zidryx\n",
      "yhcqxw\n",
      "xgbpwv\n",
      "wfaovu\n",
      "veznut\n",
      "udymts\n",
      "tcxlsr\n",
      "sbwkrq\n",
      "ravjqp\n",
      "qzuipo\n",
      "python\n",
      "oxsgnm\n",
      "nwrfml\n",
      "mvqelk\n",
      "lupdkj\n",
      "ktocji\n",
      "jsnbih\n",
      "irmahg\n",
      "hqlzgf\n"
     ]
    }
   ],
   "source": [
    "ciphertext=input().lower()\n",
    "for i in range(25):\n",
    "    key=i\n",
    "    print(decrypt(ciphertext,key))\n",
    "    i+=1\n",
    "    "
   ]
  },
  {
   "cell_type": "code",
   "execution_count": 28,
   "metadata": {},
   "outputs": [
    {
     "name": "stdout",
     "output_type": "stream",
     "text": [
      "jacrorlrjurwcnuurpnwln\n",
      "jacrorlrjurwcnuurpnwln\n",
      "izbqnqkqitqvbmttqomvkm\n",
      "hyapmpjphspualsspnlujl\n",
      "gxzoloiogrotzkrromktik\n",
      "fwynknhnfqnsyjqqnljshj\n",
      "evxmjmgmepmrxippmkirgi\n",
      "duwlilfldolqwhooljhqfh\n",
      "ctvkhkekcnkpvgnnkigpeg\n",
      "bsujgjdjbmjoufmmjhfodf\n",
      "artificialintelligence\n",
      "zqshehbhzkhmsdkkhfdmbd\n",
      "yprgdgagyjglrcjjgeclac\n",
      "xoqfcfzfxifkqbiifdbkzb\n",
      "wnpebeyewhejpahhecajya\n",
      "vmodadxdvgdiozggdbzixz\n",
      "ulnczcwcufchnyffcayhwy\n",
      "tkmbybvbtebgmxeebzxgvx\n",
      "sjlaxauasdaflwddaywfuw\n",
      "rikzwztzrczekvcczxvetv\n",
      "qhjyvysyqbydjubbywudsu\n",
      "pgixuxrxpaxcitaaxvtcrt\n",
      "ofhwtwqwozwbhszzwusbqs\n",
      "negvsvpvnyvagryyvtrapr\n",
      "mdfuruoumxuzfqxxusqzoq\n",
      "lcetqtntlwtyepwwtrpynp\n"
     ]
    }
   ],
   "source": [
    "ciphertext=input().lower()\n",
    "for i in range(25):\n",
    "    key=i\n",
    "    print(decrypt(ciphertext,key))\n",
    "    i+=1\n",
    "    \n"
   ]
  },
  {
   "cell_type": "code",
   "execution_count": null,
   "metadata": {},
   "outputs": [],
   "source": []
  }
 ],
 "metadata": {
  "kernelspec": {
   "display_name": "Python 3",
   "language": "python",
   "name": "python3"
  },
  "language_info": {
   "codemirror_mode": {
    "name": "ipython",
    "version": 3
   },
   "file_extension": ".py",
   "mimetype": "text/x-python",
   "name": "python",
   "nbconvert_exporter": "python",
   "pygments_lexer": "ipython3",
   "version": "3.7.4"
  }
 },
 "nbformat": 4,
 "nbformat_minor": 2
}
